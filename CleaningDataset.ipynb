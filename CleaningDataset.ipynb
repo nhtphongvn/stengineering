{
 "cells": [
  {
   "cell_type": "markdown",
   "id": "a04ba54b",
   "metadata": {},
   "source": [
    "## Import package for data pipeline"
   ]
  },
  {
   "cell_type": "code",
   "execution_count": 24,
   "id": "4a8ec957",
   "metadata": {},
   "outputs": [],
   "source": [
    "import pandas as pd\n",
    "import datetime"
   ]
  },
  {
   "cell_type": "markdown",
   "id": "44cf308b",
   "metadata": {},
   "source": [
    "## Define function for cleaning date column"
   ]
  },
  {
   "cell_type": "code",
   "execution_count": 25,
   "id": "e285c17e",
   "metadata": {},
   "outputs": [],
   "source": [
    "def clean_date_column(df, column_name):\n",
    "    \"\"\"\n",
    "    Clean and format a date column to 'yyyy-mm-dd' format.\n",
    "    \"\"\"\n",
    "    # Create a copy to avoid modifying the original DataFrame\n",
    "    df_clean = df.copy()\n",
    "    \n",
    "    # Function to convert individual values\n",
    "    def convert_date(value):\n",
    "        # Handle NaN, None, or empty strings\n",
    "        if pd.isna(value) or value == '' or value is None:\n",
    "            return value\n",
    "        \n",
    "        try:\n",
    "            parsed_date = pd.to_datetime(value, errors='coerce')\n",
    "            return parsed_date.strftime('%Y-%m-%d')\n",
    "            \n",
    "        except (ValueError, TypeError):\n",
    "            # If any error occurs, return default\n",
    "            return \n",
    "    \n",
    "    # Apply the conversion function to the column\n",
    "    df_clean[column_name] = df_clean[column_name].apply(convert_date)\n",
    "    \n",
    "    return df_clean"
   ]
  },
  {
   "cell_type": "markdown",
   "id": "d3bca64f",
   "metadata": {},
   "source": [
    "## Define function for calculation contract duration date"
   ]
  },
  {
   "cell_type": "code",
   "execution_count": 26,
   "id": "9e7b8482",
   "metadata": {},
   "outputs": [],
   "source": [
    "def calculate_contract_duration_days(df, start_col, end_col):\n",
    "    \"\"\"\n",
    "    Calculate duration in days between start and end date columns.\n",
    "    Only calculates if both dates are not null.\n",
    "    \n",
    "    \"\"\"\n",
    "    df_result = df.copy()\n",
    "    \n",
    "    def calc_days(row):\n",
    "        start_date = row[start_col]\n",
    "        end_date = row[end_col]\n",
    "\n",
    "        # Skip if either date is None\n",
    "        if start_date is None or end_date is None:\n",
    "            return None\n",
    "        \n",
    "        try:\n",
    "            # Convert to datetime and calculate difference\n",
    "            start_dt = pd.to_datetime(start_date)\n",
    "            end_dt = pd.to_datetime(end_date)\n",
    "            return (end_dt - start_dt).days\n",
    "        except:\n",
    "            return None\n",
    "    \n",
    "    df_result['Contract Duration'] = df_result.apply(calc_days, axis=1)\n",
    "    return df_result"
   ]
  },
  {
   "cell_type": "markdown",
   "id": "a755032c",
   "metadata": {},
   "source": [
    "## Define function filling null value for date column"
   ]
  },
  {
   "cell_type": "code",
   "execution_count": 27,
   "id": "ff96b748",
   "metadata": {},
   "outputs": [],
   "source": [
    "def fill_null_dates(df, column_name, default_value='1900-01-01'):\n",
    "    \"\"\"\n",
    "    Fill null values in a date column with a default value.\n",
    "\n",
    "    \"\"\"\n",
    "    df_filled = df.copy()\n",
    "    df_filled[column_name] = df_filled[column_name].fillna(default_value)\n",
    "    return df_filled"
   ]
  },
  {
   "cell_type": "markdown",
   "id": "f6cdd698",
   "metadata": {},
   "source": [
    "## Read source csv data"
   ]
  },
  {
   "cell_type": "code",
   "execution_count": 28,
   "id": "a711605a",
   "metadata": {},
   "outputs": [],
   "source": [
    "df = pd.read_csv('CompetencyTest_Contracts_20250721.csv')"
   ]
  },
  {
   "cell_type": "markdown",
   "id": "c1191b18",
   "metadata": {},
   "source": [
    "## Filling null value with Contract Type and Department columns."
   ]
  },
  {
   "cell_type": "code",
   "execution_count": 29,
   "id": "1aebed9e",
   "metadata": {},
   "outputs": [],
   "source": [
    "df['Contract Type'] = df['Contract Type'].fillna('Unspecified Contract Type') # Fill missing contract type with default value \"Unspecified Contract Type\"\n",
    "df['Department'] = df['Department'].fillna('Unspecified Department') # Fill missing department with default value \"Unspecified Department\""
   ]
  },
  {
   "cell_type": "markdown",
   "id": "442bf93f",
   "metadata": {},
   "source": [
    "## Format all date column to standard date yyyy-mm-dd"
   ]
  },
  {
   "cell_type": "code",
   "execution_count": 30,
   "id": "a40d419b",
   "metadata": {},
   "outputs": [],
   "source": [
    "df = clean_date_column(df, 'Approval Date')  # Clean the 'Approval Date' column\n",
    "df = clean_date_column(df, 'Start Date')  # Clean the 'Start Date' column\n",
    "df = clean_date_column(df, 'End Date')  # Clean the 'End Date' column\n"
   ]
  },
  {
   "cell_type": "markdown",
   "id": "880f29a6",
   "metadata": {},
   "source": [
    "## Calculate contract duration day"
   ]
  },
  {
   "cell_type": "code",
   "execution_count": 31,
   "id": "824e95dc",
   "metadata": {},
   "outputs": [],
   "source": [
    "df = calculate_contract_duration_days(df, 'Start Date', 'End Date')  # Calculate contract duration in days"
   ]
  },
  {
   "cell_type": "markdown",
   "id": "430ea460",
   "metadata": {},
   "source": [
    "## Replace null value for dates columns."
   ]
  },
  {
   "cell_type": "code",
   "execution_count": 32,
   "id": "67c88547",
   "metadata": {},
   "outputs": [],
   "source": [
    "df = fill_null_dates(df, 'Approval Date')  # Fill null value with default date in the 'Approval Date' column\n",
    "df = fill_null_dates(df, 'Start Date')  # Fill null value with default date in the 'Start Date' column\n",
    "df = fill_null_dates(df, 'End Date')  # Fill null value with default date in the 'End Date' column"
   ]
  },
  {
   "cell_type": "markdown",
   "id": "d8d246ed",
   "metadata": {},
   "source": [
    "## Check if it is Blanked Contract or not based on End date."
   ]
  },
  {
   "cell_type": "code",
   "execution_count": 33,
   "id": "876b7847",
   "metadata": {},
   "outputs": [],
   "source": [
    "df['Is Blanket Contract'] = df['End Date'].apply(lambda x: 'Yes' if x is None else 'No')  # Create \"Is Blanket Contract\" column based on 'End Date'. If Contract End Date is None, then Yes, else No."
   ]
  },
  {
   "cell_type": "markdown",
   "id": "adfc15b6",
   "metadata": {},
   "source": [
    "## Check if it is Legacy Contract or not based on first value of contract number."
   ]
  },
  {
   "cell_type": "code",
   "execution_count": 34,
   "id": "60d937b9",
   "metadata": {},
   "outputs": [],
   "source": [
    "df['Is Legacy Contract'] = df['Purchase Order (Contract) Number'].apply(lambda x: 'Yes' if str(x)[0].isalpha() else 'No') # Create \"Is Legacy Contract\" column based on 'Purchase Order (Contract) Number'. If the first character is an alphabet, then Yes, else No."
   ]
  },
  {
   "cell_type": "markdown",
   "id": "6de87c64",
   "metadata": {},
   "source": [
    "## Check if it Has Negative Modification or not based value of Award Amount."
   ]
  },
  {
   "cell_type": "code",
   "execution_count": 35,
   "id": "d44af18b",
   "metadata": {},
   "outputs": [],
   "source": [
    "df['Has Negative Modification'] = df['Award Amount'].apply(lambda x: 'Yes' if x < 0 else 'No')  # Create \"Has Negative Modification\" column based on 'Award Amount'. If Award Amount is negative, then Yes, else No."
   ]
  },
  {
   "cell_type": "markdown",
   "id": "fafc0897",
   "metadata": {},
   "source": [
    "## Save cleaned dataframe to csv file."
   ]
  },
  {
   "cell_type": "code",
   "execution_count": 36,
   "id": "5d5dab78",
   "metadata": {},
   "outputs": [],
   "source": [
    "df.to_csv('cleaned_CompetencyTest_Contracts.csv', index=False)  # Save the cleaned DataFrame to a new CSV file"
   ]
  },
  {
   "cell_type": "markdown",
   "id": "00efe5bf",
   "metadata": {},
   "source": []
  }
 ],
 "metadata": {
  "kernelspec": {
   "display_name": "Python 3",
   "language": "python",
   "name": "python3"
  },
  "language_info": {
   "codemirror_mode": {
    "name": "ipython",
    "version": 3
   },
   "file_extension": ".py",
   "mimetype": "text/x-python",
   "name": "python",
   "nbconvert_exporter": "python",
   "pygments_lexer": "ipython3",
   "version": "3.13.3"
  }
 },
 "nbformat": 4,
 "nbformat_minor": 5
}
